{
 "cells": [
  {
   "cell_type": "markdown",
   "id": "1d4add26-ca93-4c69-ae05-8fa40c31a95c",
   "metadata": {},
   "source": [
    "## 1. Write a Python program that asks the respondent for their name, age, and country. Then, print a summary."
   ]
  },
  {
   "cell_type": "code",
   "execution_count": 1,
   "id": "e53a7682-4d10-4208-9954-47e61b079a84",
   "metadata": {},
   "outputs": [
    {
     "name": "stdin",
     "output_type": "stream",
     "text": [
      "Name:  Arbaz Khan\n",
      "Age:  23\n",
      "Country:  India\n"
     ]
    },
    {
     "name": "stdout",
     "output_type": "stream",
     "text": [
      "\n",
      "Hello Arbaz Khan! You are 23 years old and from India.\n"
     ]
    }
   ],
   "source": [
    "while True:\n",
    "    name = input(\"Name: \").strip()\n",
    "    if name:\n",
    "        break\n",
    "    print(\"Please enter valid name!!!\")\n",
    "while True:\n",
    "    age = input(\"Age: \")\n",
    "    if age.isdigit():\n",
    "        age = int(age)\n",
    "        if (0 < age < 120):\n",
    "            break\n",
    "    print(\"Please enter valid age!!!\")\n",
    "while True:\n",
    "    country = input(\"Country: \").strip()\n",
    "    if country:\n",
    "        break\n",
    "    print(\"Please enter valid country!!!\")\n",
    "    \n",
    "print(f\"\\nHello {name}! You are {age} years old and from {country}.\")"
   ]
  },
  {
   "cell_type": "markdown",
   "id": "f47cc99c-3368-4237-9fb2-6f7d4caa5f7f",
   "metadata": {},
   "source": [
    "---"
   ]
  },
  {
   "cell_type": "markdown",
   "id": "3ede190b-875d-47b2-96ef-09d17c402443",
   "metadata": {},
   "source": [
    "## 2. Ask a user a multiple-choice question and validate their input."
   ]
  },
  {
   "cell_type": "code",
   "execution_count": 2,
   "id": "b788ec60-1c21-455f-b4e9-5939b9ae6825",
   "metadata": {},
   "outputs": [
    {
     "name": "stdin",
     "output_type": "stream",
     "text": [
      "What is your favorite fruit? \n",
      "a) Apple \n",
      "b) Banana \n",
      "c) Mango \n",
      "Enter your choice (a/b/c):  b\n"
     ]
    },
    {
     "name": "stdout",
     "output_type": "stream",
     "text": [
      "Your favorite fruit is Banana.\n"
     ]
    }
   ],
   "source": [
    "options = {\n",
    "    'a': 'Apple',\n",
    "    'b': 'Banana',\n",
    "    'c': 'Mango'\n",
    "}\n",
    "\n",
    "while True:\n",
    "    favfruit = input(\n",
    "        \"What is your favorite fruit? \\n\"\n",
    "        \"a) Apple \\n\"\n",
    "        \"b) Banana \\n\"\n",
    "        \"c) Mango \\n\"\n",
    "        \"Enter your choice (a/b/c): \"\n",
    "    ).strip().lower()\n",
    "    \n",
    "    if favfruit in options:\n",
    "        break\n",
    "    print(\"Invalid choice. Please enter 'a', 'b' or 'c'.\")\n",
    "    \n",
    "print(f\"Your favorite fruit is {options[favfruit]}.\")        \n"
   ]
  },
  {
   "cell_type": "markdown",
   "id": "c9b27ce9-2bb1-46c7-b0a5-ea53fb8c6f4a",
   "metadata": {},
   "source": [
    "---"
   ]
  },
  {
   "cell_type": "markdown",
   "id": "c4bb2760-2d92-4222-816e-421486729b48",
   "metadata": {},
   "source": [
    "## 3. Collect ratings (1-5) from multiple respondents and calculate the average rating."
   ]
  },
  {
   "cell_type": "code",
   "execution_count": 3,
   "id": "1dc82370-0d85-47bb-a6aa-ed6e72392455",
   "metadata": {},
   "outputs": [
    {
     "name": "stdin",
     "output_type": "stream",
     "text": [
      "How many respondent:  2\n",
      "Respondent 1, rate the product (1-5):  3\n",
      "Respondent 2, rate the product (1-5):  2\n"
     ]
    },
    {
     "name": "stdout",
     "output_type": "stream",
     "text": [
      "The average rating is 2.50\n"
     ]
    }
   ],
   "source": [
    "ratings = []\n",
    "\n",
    "# Get number of respondent\n",
    "while True:\n",
    "    resp_count = input(\"How many respondent: \").strip()\n",
    "    if resp_count.isdigit():\n",
    "        resp_count = int(resp_count)\n",
    "        break\n",
    "    print(\"Please enter a valid numeric value!\")\n",
    "\n",
    "# Collect ratings\n",
    "for i in range(1, resp_count + 1):\n",
    "    while True:\n",
    "        rate = input(f\"Respondent {i}, rate the product (1-5): \").strip()\n",
    "        if not rate.isdigit():\n",
    "            print(\"Please enter a numeric value!\")\n",
    "        else:\n",
    "            rate = int(rate)\n",
    "            if (0 < rate < 6):\n",
    "                ratings.append(rate)\n",
    "                break\n",
    "            print(\"Please enter rating between 1-5.\")\n",
    "\n",
    "# Calculate and display the average rating\n",
    "avg_rating = sum(ratings) / resp_count\n",
    "print(f\"The average rating is {avg_rating:.2f}\")"
   ]
  },
  {
   "cell_type": "markdown",
   "id": "ac3ee7eb-f001-4c98-8218-a908251db51b",
   "metadata": {},
   "source": [
    "---"
   ]
  },
  {
   "cell_type": "markdown",
   "id": "b471a5b8-5dce-43fb-943b-fda06c28ced4",
   "metadata": {},
   "source": [
    "## 4. Collect Name, Age, and Feedback from multiple respondents and store them in a dictionary. Then, print all responses."
   ]
  },
  {
   "cell_type": "code",
   "execution_count": 3,
   "id": "19f730d1-7f15-48f5-93c9-ede99d368ed1",
   "metadata": {},
   "outputs": [
    {
     "name": "stdin",
     "output_type": "stream",
     "text": [
      "How many respondent:  2\n",
      "Respondent 1 - Name:  Arbaz\n",
      "Respondent 1 - Age:  23\n",
      "Respondent 1 - Feedback:  good\n",
      "Respondent 2 - Name:  raj\n",
      "Respondent 2 - Age:  34\n",
      "Respondent 2 - Feedback:  bad\n"
     ]
    },
    {
     "name": "stdout",
     "output_type": "stream",
     "text": [
      "{'Respondent 1': {'name': 'Arbaz', 'age': 23, 'feedback': 'good'}, 'Respondent 2': {'name': 'raj', 'age': 34, 'feedback': 'bad'}}\n"
     ]
    }
   ],
   "source": [
    "survey_data = {}\n",
    "\n",
    "# Get number of respondent\n",
    "while True:\n",
    "    resp_count = input(\"How many respondent: \").strip()\n",
    "    if resp_count.isdigit():\n",
    "        resp_count = int(resp_count)\n",
    "        break\n",
    "    print(\"Please enter a valid numeric value!\")\n",
    "\n",
    "for i in range(1, resp_count + 1):\n",
    "    while True:\n",
    "        name = input(f\"Respondent {i} - Name: \").strip()\n",
    "        age = input(f\"Respondent {i} - Age: \").strip()\n",
    "        feedback = input(f\"Respondent {i} - Feedback: \").strip()\n",
    "        if not name:\n",
    "            print(\"Please enter valid name!\")\n",
    "        elif not age.isdigit():\n",
    "            print(\"Please enter valid age!\")\n",
    "        elif not feedback:\n",
    "            print(\"Please enter valid feedback!\")\n",
    "        else:\n",
    "            survey_data[f\"Respondent {i}\"] = {'name': name, 'age': int(age), 'feedback': feedback}\n",
    "            break\n",
    "\n",
    "print(survey_data)"
   ]
  },
  {
   "cell_type": "markdown",
   "id": "8b824e11-39f0-40bf-8510-7b7a9051e69b",
   "metadata": {},
   "source": [
    "---"
   ]
  },
  {
   "cell_type": "markdown",
   "id": "8f4f3308-be24-4221-bfe9-b1d51ec7a542",
   "metadata": {},
   "source": [
    "## 5. Ask the user for a list of numbers (comma-separated), convert them into a list of integers, and calculate their mean, median, and standard deviation."
   ]
  },
  {
   "cell_type": "code",
   "execution_count": 19,
   "id": "a249a8b0-23ec-4522-aee1-ded17c7dfc9f",
   "metadata": {},
   "outputs": [
    {
     "name": "stdin",
     "output_type": "stream",
     "text": [
      "Enter the numbers (comma-seperated):  2\n"
     ]
    },
    {
     "name": "stdout",
     "output_type": "stream",
     "text": [
      "Mean: 2.00, Median: 2.00, Standard deviation: 0.00\n"
     ]
    }
   ],
   "source": [
    "import numpy as np\n",
    "\n",
    "while True:\n",
    "    try:\n",
    "        numbers = input(\"Enter the numbers (comma-seperated): \").strip()\n",
    "        \n",
    "        if not numbers:\n",
    "            print(\"Input cannot be empty! Please enter the numbers.\")\n",
    "            continue\n",
    "\n",
    "        number_list = list(map(int, numbers.split(',')))\n",
    "        break\n",
    "        \n",
    "    except ValueError:\n",
    "        print(\"Invalid numbers, please only enter the numbers seperated by commas.\")\n",
    "    \n",
    "print(f\"Mean: {np.mean(number_list):.2f}, Median: {np.median(number_list):.2f}, Standard deviation: {np.std(number_list):.2f}\")\n"
   ]
  },
  {
   "cell_type": "markdown",
   "id": "d2412f2e-151d-45cc-8140-052f7b901eeb",
   "metadata": {},
   "source": [
    "---"
   ]
  },
  {
   "cell_type": "markdown",
   "id": "2389992b-935a-4b05-b7c1-3af42cd70d22",
   "metadata": {},
   "source": [
    "## 6. Ask the user for a dataset column (a list of numbers), then filter out values above a given threshold entered by the user."
   ]
  },
  {
   "cell_type": "code",
   "execution_count": 40,
   "id": "fe164d05-df6f-4759-b236-ad848646e79e",
   "metadata": {},
   "outputs": [
    {
     "name": "stdin",
     "output_type": "stream",
     "text": [
      "Enter numbers seperated by commas:  2,3,1,5,-1,3,1,6,7,3,1,4,6,8,9,7,65,4,3,3,2,1,2,3,4,6,7\n",
      "Enter threshold:  5\n"
     ]
    },
    {
     "name": "stdout",
     "output_type": "stream",
     "text": [
      "[2, 3, 1, 5, -1, 3, 1, 3, 1, 4, 4, 3, 3, 2, 1, 2, 3, 4]\n"
     ]
    }
   ],
   "source": [
    "while True:\n",
    "    try:\n",
    "        numbers = input(\"Enter numbers seperated by commas: \").strip()\n",
    "    \n",
    "        if not numbers:\n",
    "            print(\"Input cannot be empty! Please enter valid numbers.\")\n",
    "            continue\n",
    "\n",
    "        num_list = list(map(int, numbers.split(',')))\n",
    "        break\n",
    "        \n",
    "    except ValueError:\n",
    "        print(\"Enter valid number.\")\n",
    "\n",
    "while True:\n",
    "    threshold = input(\"Enter threshold: \").strip()\n",
    "    \n",
    "    if threshold.isdigit():\n",
    "        threshold = int(threshold)\n",
    "        break\n",
    "    print(\"Enter valid number.\")\n",
    "\n",
    "# filtered_nums = [num for num in num_list if num <= threshold]\n",
    "filtered_nums = list(filter(lambda num: num <= threshold, num_list))\n",
    "\n",
    "print(filtered_nums)\n",
    "        \n",
    "            "
   ]
  },
  {
   "cell_type": "markdown",
   "id": "27c77f97-783a-40cf-9e4c-7d2d4e12da0e",
   "metadata": {},
   "source": [
    "---"
   ]
  },
  {
   "cell_type": "markdown",
   "id": "10639e46-6ff2-4056-82f7-7d995d6cf746",
   "metadata": {},
   "source": [
    "## 7. Ask the user for a list of numbers with some \"missing\" values as \"NA\", then replace \"NA\" with the mean of the available numbers."
   ]
  },
  {
   "cell_type": "code",
   "execution_count": 8,
   "id": "8f4e22a3-8b1f-433e-9490-07e4636bdc67",
   "metadata": {},
   "outputs": [
    {
     "name": "stdin",
     "output_type": "stream",
     "text": [
      "Enter the list of numbers with some missing values as \"NA\":  2\n"
     ]
    },
    {
     "name": "stdout",
     "output_type": "stream",
     "text": [
      "\n",
      "Updated List (NA replaced with mean): [2.0]\n"
     ]
    }
   ],
   "source": [
    "import numpy as np\n",
    "import pandas as pd\n",
    "\n",
    "while True:\n",
    "    numbers = input('Enter the list of numbers with some missing values as \"NA\": ').strip()\n",
    "    \n",
    "    if numbers:\n",
    "        num_list = numbers.split(',')\n",
    "\n",
    "        try:\n",
    "\n",
    "            num_list = [ float(x) if x.replace('.', '', 1).isdigit() else np.nan if x.strip().upper() == 'NA' else None for x in num_list]\n",
    "\n",
    "            if None in num_list:\n",
    "                raise ValueError\n",
    "\n",
    "            break\n",
    "\n",
    "        except ValueError:\n",
    "            print(\"Invalid input! Please enter numbers separated by commas with 'NA' for missing values.\")\n",
    "    else:\n",
    "        print(\"Invalid input, please try again.\")\n",
    "\n",
    "        \n",
    "num_list = pd.Series(num_list)\n",
    "\n",
    "list_mean = num_list.dropna().mean()\n",
    "if np.isnan(list_mean):\n",
    "    list_mean = 0\n",
    "num_list.fillna(list_mean, inplace=True)\n",
    "print(f\"\\nUpdated List (NA replaced with mean): {num_list.tolist()}\")\n",
    "        \n",
    "\n"
   ]
  },
  {
   "cell_type": "markdown",
   "id": "8c5ed4b6-713a-434f-bc2f-bbffbff0a2f7",
   "metadata": {},
   "source": [
    "---"
   ]
  },
  {
   "cell_type": "markdown",
   "id": "33bb87f5-2d38-4677-95e6-1942a235519f",
   "metadata": {},
   "source": [
    "## 8. Ask the user for column names and row values and create a Pandas DataFrame dynamically."
   ]
  },
  {
   "cell_type": "code",
   "execution_count": 1,
   "id": "35608796-6d89-49f5-aed1-7dbf3d33c7ee",
   "metadata": {},
   "outputs": [
    {
     "name": "stdin",
     "output_type": "stream",
     "text": [
      "Enter the column names seperated by commas:  n\n",
      "Enter value for column 'n' for row 1. If no value, enter 'None'. To exit, type 'Exit':  exit\n"
     ]
    },
    {
     "name": "stdout",
     "output_type": "stream",
     "text": [
      "Exiting input collection...\n",
      "\n",
      "Final DataFrame\n",
      " Empty DataFrame\n",
      "Columns: [n]\n",
      "Index: []\n"
     ]
    }
   ],
   "source": [
    "import numpy as np\n",
    "import pandas as pd\n",
    "\n",
    "# Get column names\n",
    "while True:\n",
    "    column_names = input(\"Enter the column names seperated by commas: \").strip()\n",
    "    \n",
    "    if column_names:\n",
    "        column_names = [col.strip() for col in column_names.split(',')]        # Remove leading/trailing spaces       \n",
    "        if all(column_names):         # Ensure no empty column names\n",
    "            break\n",
    "        else:\n",
    "            print(\"Names cannot be blank, please enter valid column names.\")\n",
    "    else:\n",
    "        print(\"Please enter valid column names.\")\n",
    "\n",
    "# Initialize lists\n",
    "\n",
    "rowlist = []\n",
    "counter = 1\n",
    "\n",
    "while True:\n",
    "    row = []        # Reset row for each iteration\n",
    "    \n",
    "    for column in column_names:\n",
    "        value = input(f\"Enter value for column '{column}' for row {counter}. If no value, enter 'None'. To exit, type 'Exit': \").strip()\n",
    "\n",
    "        # Handle \"Exit\" command\n",
    "        if value.lower() == 'exit':\n",
    "            print(\"Exiting input collection...\")\n",
    "            break\n",
    "\n",
    "        # Handle \"None\" command for missing values\n",
    "        elif value.lower() == 'none':\n",
    "                row.append(np.nan)\n",
    "\n",
    "        # Convert numbers properly\n",
    "        elif value.replace('.', '', 1).isdigit():\n",
    "            row.append(float(value) if '.' in value else int(value))\n",
    "\n",
    "        # Otherwise store as string\n",
    "        else:\n",
    "            row.append(value)\n",
    "\n",
    "    # If \"Exit\" command entered, stop the for loop\n",
    "    if value.lower() == 'exit':\n",
    "        break\n",
    "            \n",
    "    # Store the row if it's not empty\n",
    "    if row:\n",
    "        rowlist.append(row)\n",
    "\n",
    "    counter += 1        # Increment row counter \n",
    "\n",
    "finaldf = pd.DataFrame(rowlist, columns=column_names)     \n",
    "print(\"\\nFinal DataFrame\\n\", finaldf)"
   ]
  },
  {
   "cell_type": "markdown",
   "id": "fac9ed66-3138-4a76-bc8c-4097dcf87451",
   "metadata": {},
   "source": [
    "---"
   ]
  },
  {
   "cell_type": "markdown",
   "id": "dc6f8dc6-bdaf-408f-b1c1-bd3aca802fb3",
   "metadata": {},
   "source": [
    "## 9. Ask the user to upload a CSV file, read it using Pandas, and display basic stats (describe()) along with missing values count."
   ]
  },
  {
   "cell_type": "code",
   "execution_count": 5,
   "id": "6f53ccbe-4688-4a87-8718-c12a77027db2",
   "metadata": {},
   "outputs": [
    {
     "name": "stdin",
     "output_type": "stream",
     "text": [
      "Enter path of .csv file user_data.csv\n"
     ]
    },
    {
     "name": "stdout",
     "output_type": "stream",
     "text": [
      "\n",
      "Basic statistics: \n",
      "           User_ID         Age         Salary  Experience  Spending_Score\n",
      "count  100.000000  100.000000     100.000000   100.00000      100.000000\n",
      "mean    50.500000   37.910000   89922.430000    20.14000       47.250000\n",
      "std     29.011492   12.219454   38475.432369    12.25571       27.675017\n",
      "min      1.000000   18.000000   20206.000000     0.00000        2.000000\n",
      "25%     25.750000   26.750000   54873.250000    10.00000       25.000000\n",
      "50%     50.500000   38.000000   93680.000000    21.50000       44.500000\n",
      "75%     75.250000   46.250000  126173.250000    31.00000       64.500000\n",
      "max    100.000000   59.000000  148376.000000    39.00000       99.000000\n",
      "\n",
      "Missing values count:  User_ID           0\n",
      "Age               0\n",
      "Salary            0\n",
      "Experience        0\n",
      "Spending_Score    0\n",
      "dtype: int64\n"
     ]
    }
   ],
   "source": [
    "import pandas as pd\n",
    "\n",
    "while True:\n",
    "    \n",
    "    file_path = input(\"Enter path of .csv file\").strip()\n",
    "    \n",
    "    try:\n",
    "    \n",
    "        df = pd.read_csv(file_path)\n",
    "    \n",
    "        print(\"\\nBasic statistics: \\n\", df.describe())\n",
    "    \n",
    "        print(\"\\nMissing values count: \", df.isnull().sum())\n",
    "\n",
    "        break\n",
    "    \n",
    "    except FileNotFoundError:\n",
    "            print(\"Error: File not found. Please check the path and try again.\")\n",
    "    except pd.errors.EmptyDataError:\n",
    "            print(\"Error: File is empty.\")\n",
    "    except pd.errors.ParserError:\n",
    "            print(\"Error: Could not parse the file. Ensure it's a valid .csv file.\")\n",
    "    except Exception as e:\n",
    "            print(f\"An unexpected error occured: {e}\")"
   ]
  },
  {
   "cell_type": "markdown",
   "id": "1af11174-183c-40a0-891f-25281e1ae767",
   "metadata": {},
   "source": [
    "---"
   ]
  },
  {
   "cell_type": "markdown",
   "id": "ac22187a-9673-4c77-b2ea-f5f6db861b85",
   "metadata": {},
   "source": [
    "## 10.  Ask the user for a dataset (CSV file), select target and feature columns, and train a simple Linear Regression model."
   ]
  },
  {
   "cell_type": "code",
   "execution_count": 16,
   "id": "b90b0a81-ae7e-450e-9dc8-6100d34cfa10",
   "metadata": {},
   "outputs": [
    {
     "name": "stdin",
     "output_type": "stream",
     "text": [
      "Enter path of .csv file user_data.csv\n"
     ]
    },
    {
     "name": "stdout",
     "output_type": "stream",
     "text": [
      "Column names: ['User_ID', 'Age', 'Salary', 'Experience', 'Spending_Score']\n"
     ]
    },
    {
     "name": "stdin",
     "output_type": "stream",
     "text": [
      "\n",
      "Enter target columns:  Spending_Score\n",
      "\n",
      "Use all columns as input feature? (Yes/No):  yes\n"
     ]
    },
    {
     "name": "stdout",
     "output_type": "stream",
     "text": [
      "\n",
      "Model trained successfully!\n",
      "Intercept: 58.47982173333412\n",
      "Coefficients: [-5.89754982e-04 -1.98538759e-01 -5.61484702e-05  1.01724264e-01]\n"
     ]
    }
   ],
   "source": [
    "import pandas as pd\n",
    "from sklearn.model_selection import train_test_split\n",
    "from sklearn.linear_model import LinearRegression\n",
    "\n",
    "\n",
    "while True:\n",
    "    \n",
    "    file_path = input(\"Enter path of .csv file\").strip()\n",
    "    \n",
    "    try:\n",
    "    \n",
    "        df = pd.read_csv(file_path)\n",
    "    \n",
    "        break\n",
    "    \n",
    "    except FileNotFoundError:\n",
    "            print(\"Error: File not found. Please check the path and try again.\")\n",
    "    except pd.errors.EmptyDataError:\n",
    "            print(\"Error: File is empty.\")\n",
    "    except pd.errors.ParserError:\n",
    "            print(\"Error: Could not parse the file. Ensure it's a valid .csv file.\")\n",
    "    except Exception as e:\n",
    "            print(f\"An unexpected error occured: {e}\")\n",
    "\n",
    "while True:\n",
    "\n",
    "    try:\n",
    "\n",
    "        # Display column names\n",
    "        print(f\"Column names: {df.columns.to_list()}\")\n",
    "\n",
    "        target_col = input(\"\\nEnter target columns: \").strip()\n",
    "\n",
    "        if target_col not in df.columns:\n",
    "            raise ValueError(\"Enter valid target column.\")\n",
    "\n",
    "        feature_col = [col for col in df.columns if col != target_col]\n",
    "\n",
    "        use_all_feature = input(\"\\nUse all columns as input feature? (Yes/No): \").strip().lower()\n",
    "\n",
    "        if use_all_feature == 'no':\n",
    "            feature_col = input(\"\\nEnter the column names seperated by commas: \").strip().split(',')\n",
    "            feature_col = [col.strip() for col in feature_col if col.strip() in df.columns]\n",
    "\n",
    "        if use_all_feature != 'yes' and use_all_feature != 'no':\n",
    "            raise ValueError(\"Invalid answer!!\")\n",
    "\n",
    "        if not feature_col:\n",
    "            raise ValueError(\"No valid feature columns selected! \")\n",
    "\n",
    "        X = df[feature_col]\n",
    "        y = df[target_col]\n",
    "\n",
    "        X_train, X_test, y_train, y_test = train_test_split(X, y, test_size=0.2, random_state=42)\n",
    "        model = LinearRegression()\n",
    "        model.fit(X_train, y_train)\n",
    "\n",
    "        print(\"\\nModel trained successfully!\")\n",
    "        print(\"Intercept:\", model.intercept_)\n",
    "        print(\"Coefficients:\", model.coef_)\n",
    "\n",
    "        break\n",
    "\n",
    "    except ValueError as e:\n",
    "        print(e)\n",
    "        \n"
   ]
  },
  {
   "cell_type": "markdown",
   "id": "d38c5735-58f6-4cd8-8089-572163dfa666",
   "metadata": {},
   "source": [
    "---"
   ]
  },
  {
   "cell_type": "markdown",
   "id": "ad0db1e7-57df-45d1-9f90-857efbada840",
   "metadata": {},
   "source": [
    "## 11.Write a program that takes an integer as input and determines whether it is odd or even using if-else."
   ]
  },
  {
   "cell_type": "code",
   "execution_count": 8,
   "id": "5ddf9686-7f24-4476-b534-7292e4807288",
   "metadata": {},
   "outputs": [
    {
     "name": "stdin",
     "output_type": "stream",
     "text": [
      "\n",
      "Enter an integer:  w\n"
     ]
    },
    {
     "name": "stdout",
     "output_type": "stream",
     "text": [
      "Please only enter the INTEGER value!\n"
     ]
    },
    {
     "name": "stdin",
     "output_type": "stream",
     "text": [
      "\n",
      "Enter an integer:  e\n"
     ]
    },
    {
     "name": "stdout",
     "output_type": "stream",
     "text": [
      "Please only enter the INTEGER value!\n"
     ]
    },
    {
     "name": "stdin",
     "output_type": "stream",
     "text": [
      "\n",
      "Enter an integer:  2\n"
     ]
    },
    {
     "name": "stdout",
     "output_type": "stream",
     "text": [
      "\n",
      "You have entered a even number.\n"
     ]
    }
   ],
   "source": [
    "while True:\n",
    "    number = input(\"\\nEnter an integer: \").strip()\n",
    "    if not number.lstrip('-').isdigit():\n",
    "        print(\"Please only enter the INTEGER value!\")\n",
    "    else:\n",
    "        number = int(number)\n",
    "        if (number % 2 == 0):\n",
    "            print(\"\\nYou have entered a even number.\")\n",
    "        else:\n",
    "            print(\"\\nYou have entered a odd number.\")\n",
    "        break"
   ]
  },
  {
   "cell_type": "markdown",
   "id": "ccf50d27-bf07-4656-850d-c50aef9bb704",
   "metadata": {},
   "source": [
    "---"
   ]
  },
  {
   "cell_type": "markdown",
   "id": "8a5e7907-5be9-4ae2-aa28-ad352e24b6c1",
   "metadata": {},
   "source": [
    "## 12. Ask the user for two numbers and an operator (+, -, *, /). Perform the operation using if-elif-else."
   ]
  },
  {
   "cell_type": "code",
   "execution_count": null,
   "id": "3280f2f2-d31b-4d3c-83b5-e4d11197dc79",
   "metadata": {},
   "outputs": [],
   "source": [
    "operator_set = {'+', '-', '*', '/'}\n",
    "while True:\n",
    "    try:\n",
    "        num1, num2, operator = map(str.strip, input(\"\\nEnter 1st number, 2nd number and operator (Any one of +, -, *, /) seperated by commas: \").split(','))\n",
    "\n",
    "        if not (num1.lstrip('-').replace('.', '', 1).isdigit() or \n",
    "                num2.lstrip('-').replace('.', '', 1).isdigit() or \n",
    "                operator in operator_set):\n",
    "            raise ValueError(\"Invalid input, please try again!\")\n",
    "            \n",
    "        num1 = float(num1)\n",
    "        num2 = float(num2)\n",
    "        \n",
    "        if operator == '+':\n",
    "            print(f\"\\nAddition: {num1 + num2}\")\n",
    "        elif operator == '-':\n",
    "            print(f\"\\nSubtraction: {num1 - num2}\")\n",
    "        elif operator == '*':\n",
    "            print(f\"\\nMultiplication: {num1 * num2}\")\n",
    "        elif operator == '/':\n",
    "            if num2 == 0:\n",
    "                raise ZeroDivisionError(\"Cannot divide by zero, please try again!\")\n",
    "            print(f\"\\nDivision: {num1 / num2}\")\n",
    "        break\n",
    "    except ValueError as e:\n",
    "        print(e)\n",
    "    except ZeroDivisionError as e:\n",
    "        print(e)"
   ]
  },
  {
   "cell_type": "code",
   "execution_count": null,
   "id": "1d46ce3e-c672-4cf5-9501-ff0baccff82f",
   "metadata": {},
   "outputs": [],
   "source": []
  }
 ],
 "metadata": {
  "kernelspec": {
   "display_name": "Python 3 (ipykernel)",
   "language": "python",
   "name": "python3"
  },
  "language_info": {
   "codemirror_mode": {
    "name": "ipython",
    "version": 3
   },
   "file_extension": ".py",
   "mimetype": "text/x-python",
   "name": "python",
   "nbconvert_exporter": "python",
   "pygments_lexer": "ipython3",
   "version": "3.13.2"
  }
 },
 "nbformat": 4,
 "nbformat_minor": 5
}
